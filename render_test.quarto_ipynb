{
  "cells": [
    {
      "cell_type": "markdown",
      "metadata": {},
      "source": [
        "---\n",
        "title: \"Render Test\"\n",
        "author: \"someone\"\n",
        "date: \"12 February 2024\"\n",
        "format: html\n",
        "jupyter: python3\n",
        "---\n",
        "\n",
        "\n",
        "\n",
        "\n",
        "The goal here is to try to get something, anything, to render with Plotly. So I just stole this code from Stackoverflow and am trying it out. Not really sure what it does. \n",
        "\n",
        "Unfortunately, not doing anything yet.\n"
      ],
      "id": "b838a6f6"
    },
    {
      "cell_type": "code",
      "metadata": {},
      "source": [
        "import plotly.io as pio\n",
        "import IPython\n",
        "\n",
        "\n",
        "def get_environment():\n",
        "    try:\n",
        "        # Check if running in Google Colab\n",
        "        if 'google.colab' in str(IPython.get_ipython()):\n",
        "            return 'colab'\n",
        "    except NameError:\n",
        "        pass\n",
        "    \n",
        "    try:\n",
        "        # Check if running in Quarto\n",
        "        if 'quarto' in IPython.get_ipython().config:\n",
        "            return 'quarto'\n",
        "    except:\n",
        "        pass\n",
        "    \n",
        "    # Default to Jupyter Notebook \n",
        "    return 'notebook'\n",
        "\n",
        "env = get_environment()\n",
        "\n",
        "if env == 'colab':\n",
        "    pio.renderers.default = 'colab'\n",
        "elif env == 'quarto':\n",
        "    pio.renderers.default = 'notebook'\n",
        "else:\n",
        "    pio.renderers.default = 'notebook'"
      ],
      "id": "892878ca",
      "execution_count": null,
      "outputs": []
    },
    {
      "cell_type": "markdown",
      "metadata": {},
      "source": [
        "This is a total test. \n"
      ],
      "id": "f9ec737d"
    },
    {
      "cell_type": "code",
      "metadata": {},
      "source": [
        "import plotly.express as px\n",
        "import plotly.io as pio\n",
        "import IPython\n",
        "\n",
        "def is_colab():\n",
        "    try:\n",
        "        if 'google.colab' in str(IPython.get_ipython()):\n",
        "            return True\n",
        "    except NameError:\n",
        "        return False\n",
        "\n",
        "if is_colab():\n",
        "    pio.renderers.default = 'colab'\n",
        "else:\n",
        "    pio.renderers.default = 'png'  # Use static PNG for Quarto\n",
        "\n",
        "# Create the plot\n",
        "fig = px.line(x=[1, 2, 3], y=[1, 2, 3])\n",
        "fig.show()"
      ],
      "id": "dc508d44",
      "execution_count": null,
      "outputs": []
    }
  ],
  "metadata": {
    "kernelspec": {
      "name": "python3",
      "language": "python",
      "display_name": "Python 3 (ipykernel)",
      "path": "C:\\Users\\Maya\\AppData\\Local\\Packages\\PythonSoftwareFoundation.Python.3.11_qbz5n2kfra8p0\\LocalCache\\local-packages\\share\\jupyter\\kernels\\python3"
    }
  },
  "nbformat": 4,
  "nbformat_minor": 5
}